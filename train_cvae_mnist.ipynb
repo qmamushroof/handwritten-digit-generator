{
  "cells": [
    {
      "cell_type": "code",
      "execution_count": 1,
      "metadata": {
        "colab": {
          "base_uri": "https://localhost:8080/",
          "height": 467
        },
        "id": "koltHJ6O3Qwe",
        "outputId": "23d499ef-7395-4cb0-c80c-e755ef416d96"
      },
      "outputs": [
        {
          "name": "stderr",
          "output_type": "stream",
          "text": [
            "100%|██████████| 9.91M/9.91M [00:00<00:00, 16.0MB/s]\n",
            "100%|██████████| 28.9k/28.9k [00:00<00:00, 481kB/s]\n",
            "100%|██████████| 1.65M/1.65M [00:00<00:00, 4.42MB/s]\n",
            "100%|██████████| 4.54k/4.54k [00:00<00:00, 4.59MB/s]\n"
          ]
        },
        {
          "name": "stdout",
          "output_type": "stream",
          "text": [
            "Epoch 1 Loss: 163.8715\n",
            "Epoch 2 Loss: 120.0594\n",
            "Epoch 3 Loss: 112.6632\n",
            "Epoch 4 Loss: 109.2833\n",
            "Epoch 5 Loss: 107.1845\n",
            "Epoch 6 Loss: 105.7193\n",
            "Epoch 7 Loss: 104.6782\n",
            "Epoch 8 Loss: 103.8007\n",
            "Epoch 9 Loss: 103.1704\n",
            "Epoch 10 Loss: 102.6101\n"
          ]
        },
        {
          "data": {
            "image/png": "[encoded data removed]",
            "text/plain": [
              "<Figure size 1500x300 with 5 Axes>"
            ]
          },
          "metadata": {},
          "output_type": "display_data"
        }
      ],
      "source": [
        "import torch\n",
        "import torch.nn as nn\n",
        "import torch.optim as optim\n",
        "from torchvision import datasets, transforms\n",
        "from torch.utils.data import DataLoader\n",
        "import matplotlib.pyplot as plt\n",
        "\n",
        "# --- CONFIG ---\n",
        "batch_size = 128\n",
        "latent_dim = 20\n",
        "epochs = 10  # Increase if you want better generation\n",
        "device = torch.device(\"cuda\" if torch.cuda.is_available() else \"cpu\")\n",
        "\n",
        "# --- DATA ---\n",
        "transform = transforms.ToTensor()\n",
        "train_loader = DataLoader(datasets.MNIST('./data', train=True, download=True, transform=transform), batch_size=batch_size, shuffle=True)\n",
        "\n",
        "# --- MODEL ---\n",
        "class CVAE(nn.Module):\n",
        "    def __init__(self, latent_dim=latent_dim):\n",
        "        super(CVAE, self).__init__()\n",
        "        self.fc1 = nn.Linear(28*28 + 10, 400)\n",
        "        self.fc21 = nn.Linear(400, latent_dim)\n",
        "        self.fc22 = nn.Linear(400, latent_dim)\n",
        "        self.fc3 = nn.Linear(latent_dim + 10, 400)\n",
        "        self.fc4 = nn.Linear(400, 28*28)\n",
        "\n",
        "    def encode(self, x, y):\n",
        "        h1 = torch.relu(self.fc1(torch.cat([x, y], 1)))\n",
        "        return self.fc21(h1), self.fc22(h1)\n",
        "\n",
        "    def reparameterize(self, mu, logvar):\n",
        "        std = torch.exp(0.5 * logvar)\n",
        "        eps = torch.randn_like(std)\n",
        "        return mu + eps * std\n",
        "\n",
        "    def decode(self, z, y):\n",
        "        h3 = torch.relu(self.fc3(torch.cat([z, y], 1)))\n",
        "        return torch.sigmoid(self.fc4(h3))\n",
        "\n",
        "    def forward(self, x, y):\n",
        "        mu, logvar = self.encode(x, y)\n",
        "        z = self.reparameterize(mu, logvar)\n",
        "        return self.decode(z, y), mu, logvar\n",
        "\n",
        "model = CVAE().to(device)\n",
        "optimizer = optim.Adam(model.parameters(), lr=1e-3)\n",
        "\n",
        "# --- LOSS ---\n",
        "def loss_function(recon_x, x, mu, logvar):\n",
        "    BCE = nn.functional.binary_cross_entropy(recon_x, x, reduction='sum')\n",
        "    KLD = -0.5 * torch.sum(1 + logvar - mu.pow(2) - logvar.exp())\n",
        "    return BCE + KLD\n",
        "\n",
        "# --- TRAIN ---\n",
        "for epoch in range(1, epochs+1):\n",
        "    model.train()\n",
        "    train_loss = 0\n",
        "    for data, target in train_loader:\n",
        "        data = data.view(-1, 28*28).to(device)\n",
        "        target_onehot = torch.eye(10)[target].to(device)\n",
        "        optimizer.zero_grad()\n",
        "        recon_batch, mu, logvar = model(data, target_onehot)\n",
        "        loss = loss_function(recon_batch, data, mu, logvar)\n",
        "        loss.backward()\n",
        "        train_loss += loss.item()\n",
        "        optimizer.step()\n",
        "    print(f\"Epoch {epoch} Loss: {train_loss / len(train_loader.dataset):.4f}\")\n",
        "\n",
        "# --- SAVE MODEL ---\n",
        "torch.save(model.state_dict(), \"cvae_mnist.pth\")\n",
        "\n",
        "# --- SAMPLE GENERATION ---\n",
        "def generate_digit(model, digit, num_samples=5, latent_dim=latent_dim):\n",
        "    model.eval()\n",
        "    y = torch.eye(10)[digit].repeat(num_samples, 1).to(device)\n",
        "    z = torch.randn(num_samples, latent_dim).to(device)\n",
        "    with torch.no_grad():\n",
        "        samples = model.decode(z, y).cpu().numpy()\n",
        "    return samples.reshape(num_samples, 28, 28)\n",
        "\n",
        "# Preview sample output\n",
        "digit = 3\n",
        "samples = generate_digit(model, digit)\n",
        "fig, axs = plt.subplots(1, 5, figsize=(15,3))\n",
        "for i in range(5):\n",
        "    axs[i].imshow(samples[i], cmap='gray')\n",
        "    axs[i].axis('off')\n",
        "plt.show()"
      ]
    }
  ],
  "metadata": {
    "colab": {
      "provenance": [],
      "toc_visible": true
    },
    "kernelspec": {
      "display_name": "Python 3",
      "name": "python3"
    },
    "language_info": {
      "name": "python"
    }
  },
  "nbformat": 4,
  "nbformat_minor": 0
}
